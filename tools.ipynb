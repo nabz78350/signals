{
 "cells": [
  {
   "cell_type": "code",
   "execution_count": 1,
   "metadata": {},
   "outputs": [],
   "source": [
    "from data_master import DataMaster\n",
    "import pandas as pd\n",
    "import numpy as np\n",
    "from tqdm import tqdm\n",
    "import datetime\n",
    "master = DataMaster()\n",
    "from scipy.stats import norm\n",
    "from utils.func import *\n",
    "from quantstats.stats import sharpe"
   ]
  },
  {
   "cell_type": "code",
   "execution_count": 32,
   "metadata": {},
   "outputs": [],
   "source": [
    "mkt_data= extract_mkt_data('R1K')\n",
    "gics = extract_gics('R1K')\n",
    "gics\n",
    "R = (mkt_data['close']/ mkt_data['close'].groupby(level=1).shift())-1\n",
    "R = R.unstack()"
   ]
  },
  {
   "cell_type": "code",
   "execution_count": 3,
   "metadata": {},
   "outputs": [],
   "source": [
    "universe = pd.read_parquet('data/SP500/universe_table.pq')\n",
    "P = presence_matrix(universe)"
   ]
  },
  {
   "cell_type": "code",
   "execution_count": 9,
   "metadata": {},
   "outputs": [
    {
     "name": "stderr",
     "output_type": "stream",
     "text": [
      "c:\\Users\\marti\\Documents\\research perso\\utils\\func.py:188: FutureWarning: Passing additional kwargs to Rolling.rank has no impact on the result and is deprecated. This will raise a TypeError in a future version of pandas.\n",
      "  column_rank =column.rolling(lookback).rank(axis=0,pct=pct,ascending=ascending).clip(0.01,0.99).apply(norm.ppf)\n"
     ]
    },
    {
     "data": {
      "text/html": [
       "<div>\n",
       "<style scoped>\n",
       "    .dataframe tbody tr th:only-of-type {\n",
       "        vertical-align: middle;\n",
       "    }\n",
       "\n",
       "    .dataframe tbody tr th {\n",
       "        vertical-align: top;\n",
       "    }\n",
       "\n",
       "    .dataframe thead th {\n",
       "        text-align: right;\n",
       "    }\n",
       "</style>\n",
       "<table border=\"1\" class=\"dataframe\">\n",
       "  <thead>\n",
       "    <tr style=\"text-align: right;\">\n",
       "      <th></th>\n",
       "      <th></th>\n",
       "      <th>RSI_rank</th>\n",
       "    </tr>\n",
       "    <tr>\n",
       "      <th>Date</th>\n",
       "      <th>Ticker</th>\n",
       "      <th></th>\n",
       "    </tr>\n",
       "  </thead>\n",
       "  <tbody>\n",
       "    <tr>\n",
       "      <th rowspan=\"5\" valign=\"top\">2000-01-14</th>\n",
       "      <th>AA</th>\n",
       "      <td>-0.524401</td>\n",
       "    </tr>\n",
       "    <tr>\n",
       "      <th>AABA</th>\n",
       "      <td>1.281552</td>\n",
       "    </tr>\n",
       "    <tr>\n",
       "      <th>AAPL</th>\n",
       "      <td>2.326348</td>\n",
       "    </tr>\n",
       "    <tr>\n",
       "      <th>ABC</th>\n",
       "      <td>0.000000</td>\n",
       "    </tr>\n",
       "    <tr>\n",
       "      <th>ABK</th>\n",
       "      <td>-0.841621</td>\n",
       "    </tr>\n",
       "    <tr>\n",
       "      <th>...</th>\n",
       "      <th>...</th>\n",
       "      <td>...</td>\n",
       "    </tr>\n",
       "    <tr>\n",
       "      <th rowspan=\"5\" valign=\"top\">2023-03-24</th>\n",
       "      <th>YUM</th>\n",
       "      <td>0.253347</td>\n",
       "    </tr>\n",
       "    <tr>\n",
       "      <th>ZBH</th>\n",
       "      <td>-1.281552</td>\n",
       "    </tr>\n",
       "    <tr>\n",
       "      <th>ZBRA</th>\n",
       "      <td>0.000000</td>\n",
       "    </tr>\n",
       "    <tr>\n",
       "      <th>ZION</th>\n",
       "      <td>0.524401</td>\n",
       "    </tr>\n",
       "    <tr>\n",
       "      <th>ZTS</th>\n",
       "      <td>0.524401</td>\n",
       "    </tr>\n",
       "  </tbody>\n",
       "</table>\n",
       "<p>2949680 rows × 1 columns</p>\n",
       "</div>"
      ],
      "text/plain": [
       "                   RSI_rank\n",
       "Date       Ticker          \n",
       "2000-01-14 AA     -0.524401\n",
       "           AABA    1.281552\n",
       "           AAPL    2.326348\n",
       "           ABC     0.000000\n",
       "           ABK    -0.841621\n",
       "...                     ...\n",
       "2023-03-24 YUM     0.253347\n",
       "           ZBH    -1.281552\n",
       "           ZBRA    0.000000\n",
       "           ZION    0.524401\n",
       "           ZTS     0.524401\n",
       "\n",
       "[2949680 rows x 1 columns]"
      ]
     },
     "execution_count": 9,
     "metadata": {},
     "output_type": "execute_result"
    }
   ],
   "source": [
    "rsi_index = rsi(mkt_data,10)\n",
    "rsi_index= rank_ts(rsi_index,'RSI',10,ascending=True,pct=True,normalize=True)\n",
    "rsi_index"
   ]
  },
  {
   "cell_type": "code",
   "execution_count": 47,
   "metadata": {},
   "outputs": [
    {
     "data": {
      "text/html": [
       "<div>\n",
       "<style scoped>\n",
       "    .dataframe tbody tr th:only-of-type {\n",
       "        vertical-align: middle;\n",
       "    }\n",
       "\n",
       "    .dataframe tbody tr th {\n",
       "        vertical-align: top;\n",
       "    }\n",
       "\n",
       "    .dataframe thead th {\n",
       "        text-align: right;\n",
       "    }\n",
       "</style>\n",
       "<table border=\"1\" class=\"dataframe\">\n",
       "  <thead>\n",
       "    <tr style=\"text-align: right;\">\n",
       "      <th></th>\n",
       "      <th>sector</th>\n",
       "      <th>industry</th>\n",
       "      <th>gicsect</th>\n",
       "      <th>gicgrp</th>\n",
       "      <th>gicind</th>\n",
       "      <th>gicsubind</th>\n",
       "    </tr>\n",
       "  </thead>\n",
       "  <tbody>\n",
       "    <tr>\n",
       "      <th>AIZ</th>\n",
       "      <td>Financial Services</td>\n",
       "      <td>Insurance-Specialty</td>\n",
       "      <td>Financials</td>\n",
       "      <td>Insurance</td>\n",
       "      <td>Insurance</td>\n",
       "      <td>Multi-line Insurance</td>\n",
       "    </tr>\n",
       "    <tr>\n",
       "      <th>AL</th>\n",
       "      <td>Industrials</td>\n",
       "      <td>Rental &amp; Leasing Services</td>\n",
       "      <td>Industrials</td>\n",
       "      <td>Capital Goods</td>\n",
       "      <td>Trading Companies &amp; Distributors</td>\n",
       "      <td>Trading Companies &amp; Distributors</td>\n",
       "    </tr>\n",
       "    <tr>\n",
       "      <th>DNB</th>\n",
       "      <td>Financial Services</td>\n",
       "      <td>Financial Data &amp; Stock Exchanges</td>\n",
       "      <td>Industrials</td>\n",
       "      <td>Commercial &amp; Professional Services</td>\n",
       "      <td>Professional Services</td>\n",
       "      <td>Research &amp; Consulting Services</td>\n",
       "    </tr>\n",
       "    <tr>\n",
       "      <th>BERY</th>\n",
       "      <td>Consumer Cyclical</td>\n",
       "      <td>Packaging &amp; Containers</td>\n",
       "      <td>Materials</td>\n",
       "      <td>Materials</td>\n",
       "      <td>Containers &amp; Packaging</td>\n",
       "      <td>Metal &amp; Glass Containers</td>\n",
       "    </tr>\n",
       "    <tr>\n",
       "      <th>MNST</th>\n",
       "      <td>Consumer Defensive</td>\n",
       "      <td>Beverages-Non-Alcoholic</td>\n",
       "      <td>Consumer Staples</td>\n",
       "      <td>Food, Beverage &amp; Tobacco</td>\n",
       "      <td>Beverages</td>\n",
       "      <td>Soft Drinks</td>\n",
       "    </tr>\n",
       "  </tbody>\n",
       "</table>\n",
       "</div>"
      ],
      "text/plain": [
       "                  sector                          industry           gicsect  \\\n",
       "AIZ   Financial Services               Insurance-Specialty        Financials   \n",
       "AL           Industrials         Rental & Leasing Services       Industrials   \n",
       "DNB   Financial Services  Financial Data & Stock Exchanges       Industrials   \n",
       "BERY   Consumer Cyclical            Packaging & Containers         Materials   \n",
       "MNST  Consumer Defensive           Beverages-Non-Alcoholic  Consumer Staples   \n",
       "\n",
       "                                  gicgrp                            gicind  \\\n",
       "AIZ                            Insurance                         Insurance   \n",
       "AL                         Capital Goods  Trading Companies & Distributors   \n",
       "DNB   Commercial & Professional Services             Professional Services   \n",
       "BERY                           Materials            Containers & Packaging   \n",
       "MNST            Food, Beverage & Tobacco                         Beverages   \n",
       "\n",
       "                             gicsubind  \n",
       "AIZ               Multi-line Insurance  \n",
       "AL    Trading Companies & Distributors  \n",
       "DNB     Research & Consulting Services  \n",
       "BERY          Metal & Glass Containers  \n",
       "MNST                       Soft Drinks  "
      ]
     },
     "execution_count": 47,
     "metadata": {},
     "output_type": "execute_result"
    }
   ],
   "source": [
    "gics_hedge = gics['gicsubind']\n",
    "gics.head()"
   ]
  },
  {
   "cell_type": "code",
   "execution_count": 48,
   "metadata": {},
   "outputs": [
    {
     "name": "stderr",
     "output_type": "stream",
     "text": [
      "C:\\Users\\marti\\AppData\\Local\\Temp\\ipykernel_21760\\22315482.py:3: FutureWarning: Not prepending group keys to the result index of transform-like apply. In the future, the group keys will be included in the index, regardless of whether the applied function returns a like-indexed object.\n",
      "To preserve the previous behavior, use\n",
      "\n",
      "\t>>> .groupby(..., group_keys=False)\n",
      "\n",
      "To adopt the future behavior and silence this warning, use \n",
      "\n",
      "\t>>> .groupby(..., group_keys=True)\n",
      "  SIGNAL = SIGNAL[P].groupby(gics_hedge,axis=1).apply(center)\n"
     ]
    },
    {
     "data": {
      "text/plain": [
       "SHARPE    0.420387\n",
       "dtype: float64"
      ]
     },
     "execution_count": 48,
     "metadata": {},
     "output_type": "execute_result"
    },
    {
     "data": {
      "image/png": "[encoded data removed]",
      "text/plain": [
       "<Figure size 432x288 with 1 Axes>"
      ]
     },
     "metadata": {
      "needs_background": "light"
     },
     "output_type": "display_data"
    }
   ],
   "source": [
    "SIGNAL = rsi_index['RSI_rank'].unstack()[P].rank(pct=True,ascending=False).clip(0.01,0.99).apply(norm.ppf).ffill()\n",
    "SIGNAL[SIGNAL.abs()<0.25]= None\n",
    "SIGNAL = SIGNAL[P].groupby(gics_hedge,axis=1).apply(center)\n",
    "SIGNAL = SIGNAL[P].div(SIGNAL[P].abs().sum(1),0)\n",
    "pnl = (SIGNAL.shift()*R).sum(1).loc['2020':]\n",
    "pnl.cumsum().plot()\n",
    "pd.Series({'SHARPE':sharpe(pnl)})"
   ]
  },
  {
   "cell_type": "code",
   "execution_count": 85,
   "metadata": {},
   "outputs": [
    {
     "data": {
      "text/html": [
       "<div>\n",
       "<style scoped>\n",
       "    .dataframe tbody tr th:only-of-type {\n",
       "        vertical-align: middle;\n",
       "    }\n",
       "\n",
       "    .dataframe tbody tr th {\n",
       "        vertical-align: top;\n",
       "    }\n",
       "\n",
       "    .dataframe thead th {\n",
       "        text-align: right;\n",
       "    }\n",
       "</style>\n",
       "<table border=\"1\" class=\"dataframe\">\n",
       "  <thead>\n",
       "    <tr style=\"text-align: right;\">\n",
       "      <th></th>\n",
       "      <th>sector</th>\n",
       "      <th>industry</th>\n",
       "      <th>gicsect</th>\n",
       "      <th>gicgrp</th>\n",
       "      <th>gicind</th>\n",
       "      <th>gicsubind</th>\n",
       "    </tr>\n",
       "  </thead>\n",
       "  <tbody>\n",
       "    <tr>\n",
       "      <th>AIZ</th>\n",
       "      <td>Financial Services</td>\n",
       "      <td>Insurance-Specialty</td>\n",
       "      <td>Financials</td>\n",
       "      <td>Insurance</td>\n",
       "      <td>Insurance</td>\n",
       "      <td>Multi-line Insurance</td>\n",
       "    </tr>\n",
       "    <tr>\n",
       "      <th>AL</th>\n",
       "      <td>Industrials</td>\n",
       "      <td>Rental &amp; Leasing Services</td>\n",
       "      <td>Industrials</td>\n",
       "      <td>Capital Goods</td>\n",
       "      <td>Trading Companies &amp; Distributors</td>\n",
       "      <td>Trading Companies &amp; Distributors</td>\n",
       "    </tr>\n",
       "    <tr>\n",
       "      <th>DNB</th>\n",
       "      <td>Financial Services</td>\n",
       "      <td>Financial Data &amp; Stock Exchanges</td>\n",
       "      <td>Industrials</td>\n",
       "      <td>Commercial &amp; Professional Services</td>\n",
       "      <td>Professional Services</td>\n",
       "      <td>Research &amp; Consulting Services</td>\n",
       "    </tr>\n",
       "    <tr>\n",
       "      <th>BERY</th>\n",
       "      <td>Consumer Cyclical</td>\n",
       "      <td>Packaging &amp; Containers</td>\n",
       "      <td>Materials</td>\n",
       "      <td>Materials</td>\n",
       "      <td>Containers &amp; Packaging</td>\n",
       "      <td>Metal &amp; Glass Containers</td>\n",
       "    </tr>\n",
       "    <tr>\n",
       "      <th>MNST</th>\n",
       "      <td>Consumer Defensive</td>\n",
       "      <td>Beverages-Non-Alcoholic</td>\n",
       "      <td>Consumer Staples</td>\n",
       "      <td>Food, Beverage &amp; Tobacco</td>\n",
       "      <td>Beverages</td>\n",
       "      <td>Soft Drinks</td>\n",
       "    </tr>\n",
       "  </tbody>\n",
       "</table>\n",
       "</div>"
      ],
      "text/plain": [
       "                  sector                          industry           gicsect  \\\n",
       "AIZ   Financial Services               Insurance-Specialty        Financials   \n",
       "AL           Industrials         Rental & Leasing Services       Industrials   \n",
       "DNB   Financial Services  Financial Data & Stock Exchanges       Industrials   \n",
       "BERY   Consumer Cyclical            Packaging & Containers         Materials   \n",
       "MNST  Consumer Defensive           Beverages-Non-Alcoholic  Consumer Staples   \n",
       "\n",
       "                                  gicgrp                            gicind  \\\n",
       "AIZ                            Insurance                         Insurance   \n",
       "AL                         Capital Goods  Trading Companies & Distributors   \n",
       "DNB   Commercial & Professional Services             Professional Services   \n",
       "BERY                           Materials            Containers & Packaging   \n",
       "MNST            Food, Beverage & Tobacco                         Beverages   \n",
       "\n",
       "                             gicsubind  \n",
       "AIZ               Multi-line Insurance  \n",
       "AL    Trading Companies & Distributors  \n",
       "DNB     Research & Consulting Services  \n",
       "BERY          Metal & Glass Containers  \n",
       "MNST                       Soft Drinks  "
      ]
     },
     "execution_count": 85,
     "metadata": {},
     "output_type": "execute_result"
    }
   ],
   "source": [
    "gics_hedge = gics['gicsubind']\n",
    "gics.head()"
   ]
  },
  {
   "cell_type": "code",
   "execution_count": 126,
   "metadata": {},
   "outputs": [],
   "source": [
    "mkt_data['volume_dollar'] = (mkt_data['volume'] * mkt_data['close'])"
   ]
  },
  {
   "cell_type": "code",
   "execution_count": 135,
   "metadata": {},
   "outputs": [],
   "source": [
    "adv = mkt_data['volume_dollar']#.groupby(level=0).rank(pct=False,ascending=False)\n",
    "adv = adv.unstack().rolling(21).mean()\n",
    "adv.stack().describe()\n",
    "P = (adv>5e6)"
   ]
  },
  {
   "cell_type": "code",
   "execution_count": 138,
   "metadata": {},
   "outputs": [
    {
     "name": "stderr",
     "output_type": "stream",
     "text": [
      "C:\\Users\\marti\\AppData\\Local\\Temp\\ipykernel_21760\\2918163586.py:8: FutureWarning: Not prepending group keys to the result index of transform-like apply. In the future, the group keys will be included in the index, regardless of whether the applied function returns a like-indexed object.\n",
      "To preserve the previous behavior, use\n",
      "\n",
      "\t>>> .groupby(..., group_keys=False)\n",
      "\n",
      "To adopt the future behavior and silence this warning, use \n",
      "\n",
      "\t>>> .groupby(..., group_keys=True)\n",
      "  SIGNAL = SIGNAL[P].groupby(gics_hedge,axis=1).apply(center)\n"
     ]
    },
    {
     "data": {
      "text/plain": [
       "SHARPE    2.042428\n",
       "dtype: float64"
      ]
     },
     "execution_count": 138,
     "metadata": {},
     "output_type": "execute_result"
    },
    {
     "data": {
      "image/png": "[encoded data removed]",
      "text/plain": [
       "<Figure size 432x288 with 1 Axes>"
      ]
     },
     "metadata": {
      "needs_background": "light"
     },
     "output_type": "display_data"
    }
   ],
   "source": [
    "SIGNAL = (1 + R[P].rolling(20).sum()).rank(pct=True,ascending=True).clip(0.01,0.99).apply(norm.ppf)\n",
    "SIGNAL = SIGNAL[P].ewm(alpha = 1/252).mean()\n",
    "SIGNQL = SIGNAL.rolling(20).min()\n",
    "\n",
    "\n",
    "SIGNAL = SIGNAL[P].rank(pct=True,ascending=False).clip(0.01,0.99).apply(norm.ppf)\n",
    "SIGNAL[SIGNAL.abs()<0.1]= None\n",
    "SIGNAL = SIGNAL[P].groupby(gics_hedge,axis=1).apply(center)\n",
    "SIGNAL = SIGNAL[P].div(SIGNAL[P].abs().sum(1),0)\n",
    "pnl = (SIGNAL[P].shift()*R).sum(1)\n",
    "pnl.cumsum().plot()\n",
    "pd.Series({'SHARPE':sharpe(pnl)})"
   ]
  },
  {
   "cell_type": "code",
   "execution_count": 139,
   "metadata": {},
   "outputs": [
    {
     "data": {
      "text/plain": [
       "<Axes: xlabel='Date'>"
      ]
     },
     "execution_count": 139,
     "metadata": {},
     "output_type": "execute_result"
    },
    {
     "data": {
      "image/png": "[encoded data removed]",
      "text/plain": [
       "<Figure size 432x288 with 1 Axes>"
      ]
     },
     "metadata": {
      "needs_background": "light"
     },
     "output_type": "display_data"
    }
   ],
   "source": [
    "SIGNAL.count(1).plot()"
   ]
  }
 ],
 "metadata": {
  "kernelspec": {
   "display_name": "Python 3",
   "language": "python",
   "name": "python3"
  },
  "language_info": {
   "codemirror_mode": {
    "name": "ipython",
    "version": 3
   },
   "file_extension": ".py",
   "mimetype": "text/x-python",
   "name": "python",
   "nbconvert_exporter": "python",
   "pygments_lexer": "ipython3",
   "version": "3.9.8"
  },
  "orig_nbformat": 4,
  "vscode": {
   "interpreter": {
    "hash": "3e24519b0ba229a6f9a71f39c1cb5a8bdc9138e2d11e58c1de9e81a631b04fde"
   }
  }
 },
 "nbformat": 4,
 "nbformat_minor": 2
}
