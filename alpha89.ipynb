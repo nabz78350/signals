{
 "cells": [
  {
   "cell_type": "code",
   "execution_count": 40,
   "metadata": {},
   "outputs": [],
   "source": [
    "import pandas as pd\n",
    "import numpy as np\n",
    "from data_master import DataMaster\n",
    "from utils import func\n",
    "from scipy.stats import norm"
   ]
  },
  {
   "cell_type": "code",
   "execution_count": 5,
   "metadata": {},
   "outputs": [],
   "source": [
    "master = DataMaster()"
   ]
  },
  {
   "cell_type": "code",
   "execution_count": 16,
   "metadata": {},
   "outputs": [],
   "source": [
    "universe = master.baskets.get_index_historical_components('GSPC')\n"
   ]
  },
  {
   "cell_type": "code",
   "execution_count": 13,
   "metadata": {},
   "outputs": [
    {
     "data": {
      "text/html": [
       "<div>\n",
       "<style scoped>\n",
       "    .dataframe tbody tr th:only-of-type {\n",
       "        vertical-align: middle;\n",
       "    }\n",
       "\n",
       "    .dataframe tbody tr th {\n",
       "        vertical-align: top;\n",
       "    }\n",
       "\n",
       "    .dataframe thead th {\n",
       "        text-align: right;\n",
       "    }\n",
       "</style>\n",
       "<table border=\"1\" class=\"dataframe\">\n",
       "  <thead>\n",
       "    <tr style=\"text-align: right;\">\n",
       "      <th></th>\n",
       "      <th>sector</th>\n",
       "      <th>industry</th>\n",
       "      <th>gicsect</th>\n",
       "      <th>gicgrp</th>\n",
       "      <th>gicind</th>\n",
       "      <th>gicsubind</th>\n",
       "    </tr>\n",
       "  </thead>\n",
       "  <tbody>\n",
       "    <tr>\n",
       "      <th>A</th>\n",
       "      <td>Healthcare</td>\n",
       "      <td>Diagnostics &amp; Research</td>\n",
       "      <td>Health Care</td>\n",
       "      <td>Pharmaceuticals, Biotechnology &amp; Life Sciences</td>\n",
       "      <td>Life Sciences Tools &amp; Services</td>\n",
       "      <td>Life Sciences Tools &amp; Services</td>\n",
       "    </tr>\n",
       "    <tr>\n",
       "      <th>AA</th>\n",
       "      <td>Basic Materials</td>\n",
       "      <td>Aluminum</td>\n",
       "      <td>Materials</td>\n",
       "      <td>Materials</td>\n",
       "      <td>Metals &amp; Mining</td>\n",
       "      <td>Aluminum</td>\n",
       "    </tr>\n",
       "    <tr>\n",
       "      <th>AABA</th>\n",
       "      <td>Other</td>\n",
       "      <td>Other</td>\n",
       "      <td>Consumer Discretionary</td>\n",
       "      <td>Retailing</td>\n",
       "      <td>Internet &amp; Direct Marketing Retail</td>\n",
       "      <td>Internet &amp; Direct Marketing Retail</td>\n",
       "    </tr>\n",
       "    <tr>\n",
       "      <th>AAL</th>\n",
       "      <td>Industrials</td>\n",
       "      <td>Airlines</td>\n",
       "      <td>Industrials</td>\n",
       "      <td>Transportation</td>\n",
       "      <td>Airlines</td>\n",
       "      <td>Airlines</td>\n",
       "    </tr>\n",
       "    <tr>\n",
       "      <th>AAP</th>\n",
       "      <td>Consumer Cyclical</td>\n",
       "      <td>Specialty Retail</td>\n",
       "      <td>Consumer Discretionary</td>\n",
       "      <td>Retailing</td>\n",
       "      <td>Specialty Retail</td>\n",
       "      <td>Automotive Retail</td>\n",
       "    </tr>\n",
       "    <tr>\n",
       "      <th>...</th>\n",
       "      <td>...</td>\n",
       "      <td>...</td>\n",
       "      <td>...</td>\n",
       "      <td>...</td>\n",
       "      <td>...</td>\n",
       "      <td>...</td>\n",
       "    </tr>\n",
       "    <tr>\n",
       "      <th>YUM</th>\n",
       "      <td>Consumer Cyclical</td>\n",
       "      <td>Restaurants</td>\n",
       "      <td>Consumer Discretionary</td>\n",
       "      <td>Consumer Services</td>\n",
       "      <td>Hotels, Restaurants &amp; Leisure</td>\n",
       "      <td>Restaurants</td>\n",
       "    </tr>\n",
       "    <tr>\n",
       "      <th>ZBH</th>\n",
       "      <td>Healthcare</td>\n",
       "      <td>Medical Devices</td>\n",
       "      <td>Health Care</td>\n",
       "      <td>Health Care Equipment &amp; Services</td>\n",
       "      <td>Health Care Equipment &amp; Supplies</td>\n",
       "      <td>Health Care Equipment</td>\n",
       "    </tr>\n",
       "    <tr>\n",
       "      <th>ZBRA</th>\n",
       "      <td>Technology</td>\n",
       "      <td>Communication Equipment</td>\n",
       "      <td>Information Technology</td>\n",
       "      <td>Technology Hardware &amp; Equipment</td>\n",
       "      <td>Electronic Equipment, Instruments &amp; Components</td>\n",
       "      <td>Electronic Equipment &amp; Instruments</td>\n",
       "    </tr>\n",
       "    <tr>\n",
       "      <th>ZION</th>\n",
       "      <td>Financial Services</td>\n",
       "      <td>Banks-Regional</td>\n",
       "      <td>Financials</td>\n",
       "      <td>Banks</td>\n",
       "      <td>Banks</td>\n",
       "      <td>Regional Banks</td>\n",
       "    </tr>\n",
       "    <tr>\n",
       "      <th>ZTS</th>\n",
       "      <td>Healthcare</td>\n",
       "      <td>Drug Manufacturers-Specialty &amp; Generic</td>\n",
       "      <td>Health Care</td>\n",
       "      <td>Pharmaceuticals, Biotechnology &amp; Life Sciences</td>\n",
       "      <td>Pharmaceuticals</td>\n",
       "      <td>Pharmaceuticals</td>\n",
       "    </tr>\n",
       "  </tbody>\n",
       "</table>\n",
       "<p>852 rows × 6 columns</p>\n",
       "</div>"
      ],
      "text/plain": [
       "                  sector                                industry  \\\n",
       "A             Healthcare                  Diagnostics & Research   \n",
       "AA       Basic Materials                                Aluminum   \n",
       "AABA               Other                                   Other   \n",
       "AAL          Industrials                                Airlines   \n",
       "AAP    Consumer Cyclical                        Specialty Retail   \n",
       "...                  ...                                     ...   \n",
       "YUM    Consumer Cyclical                             Restaurants   \n",
       "ZBH           Healthcare                         Medical Devices   \n",
       "ZBRA          Technology                 Communication Equipment   \n",
       "ZION  Financial Services                          Banks-Regional   \n",
       "ZTS           Healthcare  Drug Manufacturers-Specialty & Generic   \n",
       "\n",
       "                     gicsect                                          gicgrp  \\\n",
       "A                Health Care  Pharmaceuticals, Biotechnology & Life Sciences   \n",
       "AA                 Materials                                       Materials   \n",
       "AABA  Consumer Discretionary                                       Retailing   \n",
       "AAL              Industrials                                  Transportation   \n",
       "AAP   Consumer Discretionary                                       Retailing   \n",
       "...                      ...                                             ...   \n",
       "YUM   Consumer Discretionary                               Consumer Services   \n",
       "ZBH              Health Care                Health Care Equipment & Services   \n",
       "ZBRA  Information Technology                 Technology Hardware & Equipment   \n",
       "ZION              Financials                                           Banks   \n",
       "ZTS              Health Care  Pharmaceuticals, Biotechnology & Life Sciences   \n",
       "\n",
       "                                              gicind  \\\n",
       "A                     Life Sciences Tools & Services   \n",
       "AA                                   Metals & Mining   \n",
       "AABA              Internet & Direct Marketing Retail   \n",
       "AAL                                         Airlines   \n",
       "AAP                                 Specialty Retail   \n",
       "...                                              ...   \n",
       "YUM                    Hotels, Restaurants & Leisure   \n",
       "ZBH                 Health Care Equipment & Supplies   \n",
       "ZBRA  Electronic Equipment, Instruments & Components   \n",
       "ZION                                           Banks   \n",
       "ZTS                                  Pharmaceuticals   \n",
       "\n",
       "                               gicsubind  \n",
       "A         Life Sciences Tools & Services  \n",
       "AA                              Aluminum  \n",
       "AABA  Internet & Direct Marketing Retail  \n",
       "AAL                             Airlines  \n",
       "AAP                    Automotive Retail  \n",
       "...                                  ...  \n",
       "YUM                          Restaurants  \n",
       "ZBH                Health Care Equipment  \n",
       "ZBRA  Electronic Equipment & Instruments  \n",
       "ZION                      Regional Banks  \n",
       "ZTS                      Pharmaceuticals  \n",
       "\n",
       "[852 rows x 6 columns]"
      ]
     },
     "execution_count": 13,
     "metadata": {},
     "output_type": "execute_result"
    }
   ],
   "source": [
    "sectors = pd.read_parquet('sectors_sp500.pq')\n",
    "sectors"
   ]
  },
  {
   "cell_type": "code",
   "execution_count": 26,
   "metadata": {},
   "outputs": [],
   "source": [
    "market_data = pd.read_parquet('sp500_mkt_data.pq')\n",
    "balance_sheet = pd.read_parquet('balance_sheets_sp500.pq')"
   ]
  },
  {
   "cell_type": "code",
   "execution_count": 43,
   "metadata": {},
   "outputs": [
    {
     "data": {
      "text/html": [
       "<div>\n",
       "<style scoped>\n",
       "    .dataframe tbody tr th:only-of-type {\n",
       "        vertical-align: middle;\n",
       "    }\n",
       "\n",
       "    .dataframe tbody tr th {\n",
       "        vertical-align: top;\n",
       "    }\n",
       "\n",
       "    .dataframe thead th {\n",
       "        text-align: right;\n",
       "    }\n",
       "</style>\n",
       "<table border=\"1\" class=\"dataframe\">\n",
       "  <thead>\n",
       "    <tr style=\"text-align: right;\">\n",
       "      <th>Code</th>\n",
       "      <th>A</th>\n",
       "      <th>AA</th>\n",
       "      <th>AABA</th>\n",
       "      <th>AAL</th>\n",
       "      <th>AAP</th>\n",
       "      <th>AAPL</th>\n",
       "      <th>ABBV</th>\n",
       "      <th>ABC</th>\n",
       "      <th>ABI</th>\n",
       "      <th>ABK</th>\n",
       "      <th>...</th>\n",
       "      <th>XRAY</th>\n",
       "      <th>XRX</th>\n",
       "      <th>XTO</th>\n",
       "      <th>XYL</th>\n",
       "      <th>YHOO</th>\n",
       "      <th>YUM</th>\n",
       "      <th>ZBH</th>\n",
       "      <th>ZBRA</th>\n",
       "      <th>ZION</th>\n",
       "      <th>ZTS</th>\n",
       "    </tr>\n",
       "  </thead>\n",
       "  <tbody>\n",
       "    <tr>\n",
       "      <th>2000-01-03</th>\n",
       "      <td>True</td>\n",
       "      <td>True</td>\n",
       "      <td>False</td>\n",
       "      <td>False</td>\n",
       "      <td>False</td>\n",
       "      <td>True</td>\n",
       "      <td>False</td>\n",
       "      <td>False</td>\n",
       "      <td>False</td>\n",
       "      <td>False</td>\n",
       "      <td>...</td>\n",
       "      <td>False</td>\n",
       "      <td>True</td>\n",
       "      <td>True</td>\n",
       "      <td>False</td>\n",
       "      <td>True</td>\n",
       "      <td>True</td>\n",
       "      <td>False</td>\n",
       "      <td>False</td>\n",
       "      <td>False</td>\n",
       "      <td>False</td>\n",
       "    </tr>\n",
       "    <tr>\n",
       "      <th>2000-01-04</th>\n",
       "      <td>True</td>\n",
       "      <td>True</td>\n",
       "      <td>False</td>\n",
       "      <td>False</td>\n",
       "      <td>False</td>\n",
       "      <td>True</td>\n",
       "      <td>False</td>\n",
       "      <td>False</td>\n",
       "      <td>False</td>\n",
       "      <td>False</td>\n",
       "      <td>...</td>\n",
       "      <td>False</td>\n",
       "      <td>True</td>\n",
       "      <td>True</td>\n",
       "      <td>False</td>\n",
       "      <td>True</td>\n",
       "      <td>True</td>\n",
       "      <td>False</td>\n",
       "      <td>False</td>\n",
       "      <td>False</td>\n",
       "      <td>False</td>\n",
       "    </tr>\n",
       "    <tr>\n",
       "      <th>2000-01-05</th>\n",
       "      <td>True</td>\n",
       "      <td>True</td>\n",
       "      <td>False</td>\n",
       "      <td>False</td>\n",
       "      <td>False</td>\n",
       "      <td>True</td>\n",
       "      <td>False</td>\n",
       "      <td>False</td>\n",
       "      <td>False</td>\n",
       "      <td>False</td>\n",
       "      <td>...</td>\n",
       "      <td>False</td>\n",
       "      <td>True</td>\n",
       "      <td>True</td>\n",
       "      <td>False</td>\n",
       "      <td>True</td>\n",
       "      <td>True</td>\n",
       "      <td>False</td>\n",
       "      <td>False</td>\n",
       "      <td>False</td>\n",
       "      <td>False</td>\n",
       "    </tr>\n",
       "    <tr>\n",
       "      <th>2000-01-06</th>\n",
       "      <td>True</td>\n",
       "      <td>True</td>\n",
       "      <td>False</td>\n",
       "      <td>False</td>\n",
       "      <td>False</td>\n",
       "      <td>True</td>\n",
       "      <td>False</td>\n",
       "      <td>False</td>\n",
       "      <td>False</td>\n",
       "      <td>False</td>\n",
       "      <td>...</td>\n",
       "      <td>False</td>\n",
       "      <td>True</td>\n",
       "      <td>True</td>\n",
       "      <td>False</td>\n",
       "      <td>True</td>\n",
       "      <td>True</td>\n",
       "      <td>False</td>\n",
       "      <td>False</td>\n",
       "      <td>False</td>\n",
       "      <td>False</td>\n",
       "    </tr>\n",
       "    <tr>\n",
       "      <th>2000-01-07</th>\n",
       "      <td>True</td>\n",
       "      <td>True</td>\n",
       "      <td>False</td>\n",
       "      <td>False</td>\n",
       "      <td>False</td>\n",
       "      <td>True</td>\n",
       "      <td>False</td>\n",
       "      <td>False</td>\n",
       "      <td>False</td>\n",
       "      <td>False</td>\n",
       "      <td>...</td>\n",
       "      <td>False</td>\n",
       "      <td>True</td>\n",
       "      <td>True</td>\n",
       "      <td>False</td>\n",
       "      <td>True</td>\n",
       "      <td>True</td>\n",
       "      <td>False</td>\n",
       "      <td>False</td>\n",
       "      <td>False</td>\n",
       "      <td>False</td>\n",
       "    </tr>\n",
       "    <tr>\n",
       "      <th>...</th>\n",
       "      <td>...</td>\n",
       "      <td>...</td>\n",
       "      <td>...</td>\n",
       "      <td>...</td>\n",
       "      <td>...</td>\n",
       "      <td>...</td>\n",
       "      <td>...</td>\n",
       "      <td>...</td>\n",
       "      <td>...</td>\n",
       "      <td>...</td>\n",
       "      <td>...</td>\n",
       "      <td>...</td>\n",
       "      <td>...</td>\n",
       "      <td>...</td>\n",
       "      <td>...</td>\n",
       "      <td>...</td>\n",
       "      <td>...</td>\n",
       "      <td>...</td>\n",
       "      <td>...</td>\n",
       "      <td>...</td>\n",
       "      <td>...</td>\n",
       "    </tr>\n",
       "    <tr>\n",
       "      <th>2023-03-15</th>\n",
       "      <td>True</td>\n",
       "      <td>False</td>\n",
       "      <td>False</td>\n",
       "      <td>True</td>\n",
       "      <td>True</td>\n",
       "      <td>True</td>\n",
       "      <td>True</td>\n",
       "      <td>True</td>\n",
       "      <td>False</td>\n",
       "      <td>False</td>\n",
       "      <td>...</td>\n",
       "      <td>True</td>\n",
       "      <td>True</td>\n",
       "      <td>False</td>\n",
       "      <td>True</td>\n",
       "      <td>False</td>\n",
       "      <td>True</td>\n",
       "      <td>True</td>\n",
       "      <td>True</td>\n",
       "      <td>True</td>\n",
       "      <td>True</td>\n",
       "    </tr>\n",
       "    <tr>\n",
       "      <th>2023-03-16</th>\n",
       "      <td>True</td>\n",
       "      <td>False</td>\n",
       "      <td>False</td>\n",
       "      <td>True</td>\n",
       "      <td>True</td>\n",
       "      <td>True</td>\n",
       "      <td>True</td>\n",
       "      <td>True</td>\n",
       "      <td>False</td>\n",
       "      <td>False</td>\n",
       "      <td>...</td>\n",
       "      <td>True</td>\n",
       "      <td>True</td>\n",
       "      <td>False</td>\n",
       "      <td>True</td>\n",
       "      <td>False</td>\n",
       "      <td>True</td>\n",
       "      <td>True</td>\n",
       "      <td>True</td>\n",
       "      <td>True</td>\n",
       "      <td>True</td>\n",
       "    </tr>\n",
       "    <tr>\n",
       "      <th>2023-03-17</th>\n",
       "      <td>True</td>\n",
       "      <td>False</td>\n",
       "      <td>False</td>\n",
       "      <td>True</td>\n",
       "      <td>True</td>\n",
       "      <td>True</td>\n",
       "      <td>True</td>\n",
       "      <td>True</td>\n",
       "      <td>False</td>\n",
       "      <td>False</td>\n",
       "      <td>...</td>\n",
       "      <td>True</td>\n",
       "      <td>True</td>\n",
       "      <td>False</td>\n",
       "      <td>True</td>\n",
       "      <td>False</td>\n",
       "      <td>True</td>\n",
       "      <td>True</td>\n",
       "      <td>True</td>\n",
       "      <td>True</td>\n",
       "      <td>True</td>\n",
       "    </tr>\n",
       "    <tr>\n",
       "      <th>2023-03-18</th>\n",
       "      <td>True</td>\n",
       "      <td>False</td>\n",
       "      <td>False</td>\n",
       "      <td>True</td>\n",
       "      <td>True</td>\n",
       "      <td>True</td>\n",
       "      <td>True</td>\n",
       "      <td>True</td>\n",
       "      <td>False</td>\n",
       "      <td>False</td>\n",
       "      <td>...</td>\n",
       "      <td>True</td>\n",
       "      <td>True</td>\n",
       "      <td>False</td>\n",
       "      <td>True</td>\n",
       "      <td>False</td>\n",
       "      <td>True</td>\n",
       "      <td>True</td>\n",
       "      <td>True</td>\n",
       "      <td>True</td>\n",
       "      <td>True</td>\n",
       "    </tr>\n",
       "    <tr>\n",
       "      <th>2023-03-19</th>\n",
       "      <td>True</td>\n",
       "      <td>False</td>\n",
       "      <td>False</td>\n",
       "      <td>True</td>\n",
       "      <td>True</td>\n",
       "      <td>True</td>\n",
       "      <td>True</td>\n",
       "      <td>True</td>\n",
       "      <td>False</td>\n",
       "      <td>False</td>\n",
       "      <td>...</td>\n",
       "      <td>True</td>\n",
       "      <td>True</td>\n",
       "      <td>False</td>\n",
       "      <td>True</td>\n",
       "      <td>False</td>\n",
       "      <td>True</td>\n",
       "      <td>True</td>\n",
       "      <td>True</td>\n",
       "      <td>True</td>\n",
       "      <td>True</td>\n",
       "    </tr>\n",
       "  </tbody>\n",
       "</table>\n",
       "<p>8477 rows × 863 columns</p>\n",
       "</div>"
      ],
      "text/plain": [
       "Code           A     AA   AABA    AAL    AAP  AAPL   ABBV    ABC    ABI  \\\n",
       "2000-01-03  True   True  False  False  False  True  False  False  False   \n",
       "2000-01-04  True   True  False  False  False  True  False  False  False   \n",
       "2000-01-05  True   True  False  False  False  True  False  False  False   \n",
       "2000-01-06  True   True  False  False  False  True  False  False  False   \n",
       "2000-01-07  True   True  False  False  False  True  False  False  False   \n",
       "...          ...    ...    ...    ...    ...   ...    ...    ...    ...   \n",
       "2023-03-15  True  False  False   True   True  True   True   True  False   \n",
       "2023-03-16  True  False  False   True   True  True   True   True  False   \n",
       "2023-03-17  True  False  False   True   True  True   True   True  False   \n",
       "2023-03-18  True  False  False   True   True  True   True   True  False   \n",
       "2023-03-19  True  False  False   True   True  True   True   True  False   \n",
       "\n",
       "Code          ABK  ...   XRAY   XRX    XTO    XYL   YHOO   YUM    ZBH   ZBRA  \\\n",
       "2000-01-03  False  ...  False  True   True  False   True  True  False  False   \n",
       "2000-01-04  False  ...  False  True   True  False   True  True  False  False   \n",
       "2000-01-05  False  ...  False  True   True  False   True  True  False  False   \n",
       "2000-01-06  False  ...  False  True   True  False   True  True  False  False   \n",
       "2000-01-07  False  ...  False  True   True  False   True  True  False  False   \n",
       "...           ...  ...    ...   ...    ...    ...    ...   ...    ...    ...   \n",
       "2023-03-15  False  ...   True  True  False   True  False  True   True   True   \n",
       "2023-03-16  False  ...   True  True  False   True  False  True   True   True   \n",
       "2023-03-17  False  ...   True  True  False   True  False  True   True   True   \n",
       "2023-03-18  False  ...   True  True  False   True  False  True   True   True   \n",
       "2023-03-19  False  ...   True  True  False   True  False  True   True   True   \n",
       "\n",
       "Code         ZION    ZTS  \n",
       "2000-01-03  False  False  \n",
       "2000-01-04  False  False  \n",
       "2000-01-05  False  False  \n",
       "2000-01-06  False  False  \n",
       "2000-01-07  False  False  \n",
       "...           ...    ...  \n",
       "2023-03-15   True   True  \n",
       "2023-03-16   True   True  \n",
       "2023-03-17   True   True  \n",
       "2023-03-18   True   True  \n",
       "2023-03-19   True   True  \n",
       "\n",
       "[8477 rows x 863 columns]"
      ]
     },
     "execution_count": 43,
     "metadata": {},
     "output_type": "execute_result"
    }
   ],
   "source": [
    "P = func.presence_matrix(universe)\n",
    "P"
   ]
  },
  {
   "cell_type": "code",
   "execution_count": 44,
   "metadata": {},
   "outputs": [
    {
     "data": {
      "text/plain": [
       "            Code\n",
       "2000-01-31  AAL     0.524401\n",
       "            AAPL   -0.524401\n",
       "            ABC    -1.281552\n",
       "            ABMD   -1.281552\n",
       "            ABT     0.841621\n",
       "                      ...   \n",
       "2023-03-19  YUM    -1.281552\n",
       "            ZBH     0.000000\n",
       "            ZBRA    0.674490\n",
       "            ZION    0.253347\n",
       "            ZTS     1.644854\n",
       "Length: 4946724, dtype: float64"
      ]
     },
     "execution_count": 44,
     "metadata": {},
     "output_type": "execute_result"
    }
   ],
   "source": [
    "metrics = (-balance_sheet['netDebt'].astype(float)/balance_sheet['cash'].astype(float))\n",
    "netdebt = metrics.unstack().ffill()\n",
    "netdebt = netdebt.rank(1,pct=True,ascending=True).clip(0.01,0.99).apply(norm.ppf)\n",
    "netdebt.index = pd.to_datetime(netdebt.index)\n",
    "netdebt = netdebt.stack().groupby(level=1).rolling(10).rank(pct=True,ascending=True).clip(0.01,0.99).apply(norm.ppf).droplevel(0)\n",
    "netdebt = netdebt.unstack().reindex_like(P).ffill()\n",
    "netdebt.stack()\n",
    "\n"
   ]
  },
  {
   "cell_type": "code",
   "execution_count": 81,
   "metadata": {},
   "outputs": [],
   "source": [
    "GICS = sectors['gicsect'].fillna('Other')\n",
    "R = market_data['close'].unstack().pct_change().clip(-1,1)"
   ]
  },
  {
   "cell_type": "code",
   "execution_count": 82,
   "metadata": {},
   "outputs": [],
   "source": [
    "def center(x):\n",
    "    mean = x.mean(1)\n",
    "    x = x.sub(mean,0)\n",
    "    return x"
   ]
  },
  {
   "cell_type": "code",
   "execution_count": 85,
   "metadata": {},
   "outputs": [
    {
     "name": "stderr",
     "output_type": "stream",
     "text": [
      "C:\\Users\\marti\\AppData\\Local\\Temp\\ipykernel_28524\\1665728516.py:6: FutureWarning: Not prepending group keys to the result index of transform-like apply. In the future, the group keys will be included in the index, regardless of whether the applied function returns a like-indexed object.\n",
      "To preserve the previous behavior, use\n",
      "\n",
      "\t>>> .groupby(..., group_keys=False)\n",
      "\n",
      "To adopt the future behavior and silence this warning, use \n",
      "\n",
      "\t>>> .groupby(..., group_keys=True)\n",
      "  SIGNAL = SIGNAL[P].groupby(GICS,axis=1).apply(center)\n"
     ]
    }
   ],
   "source": [
    "\n",
    "thresh =0.1\n",
    "SIGNAL = netdebt.copy()\n",
    "SIGNAL = SIGNAL[P].rank(1,pct=True,ascending=True).clip(0.01,0.99).apply(norm.ppf)\n",
    "SIGNAL[SIGNAL.abs()<thresh] = None\n",
    "\n",
    "SIGNAL = SIGNAL[P].groupby(GICS,axis=1).apply(center)\n",
    "# SIGNAL = SIGNAL.sub(SIGNAL.mean(1),0)\n",
    "SIGNAL= SIGNAL.div(SIGNAL.abs().sum(1),0)"
   ]
  },
  {
   "cell_type": "code",
   "execution_count": 86,
   "metadata": {},
   "outputs": [
    {
     "name": "stdout",
     "output_type": "stream",
     "text": [
      "1.499849205618199\n"
     ]
    },
    {
     "data": {
      "image/png": "[encoded data removed]",
      "text/plain": [
       "<Figure size 432x288 with 1 Axes>"
      ]
     },
     "metadata": {
      "needs_background": "light"
     },
     "output_type": "display_data"
    }
   ],
   "source": [
    "pnl = (SIGNAL.shift(1) *R).sum(1).replace({0:np.nan}).dropna()\n",
    "sharpe = (pnl.mean(skipna=True)* np.sqrt(252)/ pnl.std(skipna=True))\n",
    "print(sharpe)\n",
    "pnl.cumsum().plot()\n",
    "plt.show()"
   ]
  },
  {
   "cell_type": "markdown",
   "metadata": {},
   "source": [
    "SIGNAL LOW / CLOSE"
   ]
  },
  {
   "cell_type": "code",
   "execution_count": 195,
   "metadata": {},
   "outputs": [],
   "source": [
    "metrics = pd.DataFrame(market_data['low'].divide(market_data['close']),dtype=float)\n",
    "metrics.columns =['metrics']\n",
    "metrics= metrics['metrics'].unstack().diff(26)\n",
    "metrics = metrics[P].rank(1,pct=True,ascending=False).clip(0.01,0.99)\n",
    "# metrics = metrics.stack().groupby(level=1).rolling(10).rank(pct=True,ascending=True).clip(0.01,0.99).apply(norm.ppf).droplevel(0)\n",
    "\n",
    "# metrics = metrics.rolling(10).rank(axis=0,pct=True,asceneing=True)\n"
   ]
  },
  {
   "cell_type": "code",
   "execution_count": 196,
   "metadata": {},
   "outputs": [
    {
     "name": "stderr",
     "output_type": "stream",
     "text": [
      "C:\\Users\\marti\\AppData\\Local\\Temp\\ipykernel_28524\\702060786.py:6: FutureWarning: Not prepending group keys to the result index of transform-like apply. In the future, the group keys will be included in the index, regardless of whether the applied function returns a like-indexed object.\n",
      "To preserve the previous behavior, use\n",
      "\n",
      "\t>>> .groupby(..., group_keys=False)\n",
      "\n",
      "To adopt the future behavior and silence this warning, use \n",
      "\n",
      "\t>>> .groupby(..., group_keys=True)\n",
      "  SIGNAL = SIGNAL[P].groupby(GICS,axis=1).apply(center)\n"
     ]
    }
   ],
   "source": [
    "\n",
    "thresh =0.25\n",
    "SIGNAL = metrics.copy()\n",
    "SIGNAL = SIGNAL[P].rank(1,pct=True,ascending=True).clip(0.01,0.99).apply(norm.ppf)\n",
    "SIGNAL[SIGNAL.abs()<thresh] = None\n",
    "\n",
    "SIGNAL = SIGNAL[P].groupby(GICS,axis=1).apply(center)\n",
    "# SIGNAL = SIGNAL.sub(SIGNAL.mean(1),0)\n",
    "SIGNAL= SIGNAL.div(SIGNAL.abs().sum(1),0)"
   ]
  },
  {
   "cell_type": "code",
   "execution_count": 198,
   "metadata": {},
   "outputs": [
    {
     "name": "stdout",
     "output_type": "stream",
     "text": [
      "-1.162540367664539\n"
     ]
    },
    {
     "data": {
      "image/png": "[encoded data removed]",
      "text/plain": [
       "<Figure size 432x288 with 1 Axes>"
      ]
     },
     "metadata": {
      "needs_background": "light"
     },
     "output_type": "display_data"
    }
   ],
   "source": [
    "pnl = (SIGNAL.shift(1) *R).loc[:'2014'].sum(1).replace({0:np.nan}).dropna()\n",
    "sharpe = (pnl.mean(skipna=True)* np.sqrt(252)/ pnl.std(skipna=True))\n",
    "print(sharpe)\n",
    "pnl.cumsum().plot()\n",
    "plt.show()\n",
    "\n"
   ]
  },
  {
   "cell_type": "markdown",
   "metadata": {},
   "source": [
    "ALPHA 20"
   ]
  },
  {
   "cell_type": "code",
   "execution_count": 163,
   "metadata": {},
   "outputs": [],
   "source": [
    "from scipy.stats import skew"
   ]
  },
  {
   "cell_type": "code",
   "execution_count": 188,
   "metadata": {},
   "outputs": [
    {
     "name": "stderr",
     "output_type": "stream",
     "text": [
      "C:\\Users\\marti\\AppData\\Local\\Temp\\ipykernel_28524\\1598711166.py:2: FutureWarning: Passing additional kwargs to Rolling.skew has no impact on the result and is deprecated. This will raise a TypeError in a future version of pandas.\n",
      "  skew = returns.rolling(15).skew(axis=0)\n"
     ]
    }
   ],
   "source": [
    "returns = R.rolling(15).sum()\n",
    "skew = returns.rolling(15).skew(axis=0)"
   ]
  },
  {
   "cell_type": "code",
   "execution_count": 189,
   "metadata": {},
   "outputs": [],
   "source": [
    "alpha  = skew.diff(15)\n",
    "alpha = alpha.rank(1,pct=True,ascending=True).clip(0.01,0.99).apply(norm.ppf)"
   ]
  },
  {
   "cell_type": "code",
   "execution_count": 190,
   "metadata": {},
   "outputs": [
    {
     "name": "stderr",
     "output_type": "stream",
     "text": [
      "C:\\Users\\marti\\AppData\\Local\\Temp\\ipykernel_28524\\3200654778.py:6: FutureWarning: Not prepending group keys to the result index of transform-like apply. In the future, the group keys will be included in the index, regardless of whether the applied function returns a like-indexed object.\n",
      "To preserve the previous behavior, use\n",
      "\n",
      "\t>>> .groupby(..., group_keys=False)\n",
      "\n",
      "To adopt the future behavior and silence this warning, use \n",
      "\n",
      "\t>>> .groupby(..., group_keys=True)\n",
      "  SIGNAL = SIGNAL[P].groupby(GICS,axis=1).apply(center)\n"
     ]
    }
   ],
   "source": [
    "thresh =0.25\n",
    "SIGNAL = alpha.copy()\n",
    "SIGNAL = SIGNAL[P].rank(1,pct=True,ascending=True).clip(0.01,0.99).apply(norm.ppf)\n",
    "SIGNAL[SIGNAL.abs()<thresh] = None\n",
    "\n",
    "SIGNAL = SIGNAL[P].groupby(GICS,axis=1).apply(center)\n",
    "# SIGNAL = SIGNAL.sub(SIGNAL.mean(1),0)\n",
    "SIGNAL= SIGNAL.div(SIGNAL.abs().sum(1),0)"
   ]
  },
  {
   "cell_type": "code",
   "execution_count": 191,
   "metadata": {},
   "outputs": [
    {
     "name": "stdout",
     "output_type": "stream",
     "text": [
      "-0.04375543898406448\n"
     ]
    },
    {
     "data": {
      "image/png": "[encoded data removed]",
      "text/plain": [
       "<Figure size 432x288 with 1 Axes>"
      ]
     },
     "metadata": {
      "needs_background": "light"
     },
     "output_type": "display_data"
    }
   ],
   "source": [
    "pnl = (SIGNAL.shift(1) *R).sum(1).replace({0:np.nan}).dropna()\n",
    "sharpe = (pnl.mean(skipna=True)* np.sqrt(252)/ pnl.std(skipna=True))\n",
    "print(sharpe)\n",
    "pnl.cumsum().plot()\n",
    "plt.show()"
   ]
  },
  {
   "cell_type": "code",
   "execution_count": 199,
   "metadata": {},
   "outputs": [],
   "source": [
    "# ALPHA 28"
   ]
  },
  {
   "cell_type": "code",
   "execution_count": 268,
   "metadata": {},
   "outputs": [
    {
     "data": {
      "text/html": [
       "<div>\n",
       "<style scoped>\n",
       "    .dataframe tbody tr th:only-of-type {\n",
       "        vertical-align: middle;\n",
       "    }\n",
       "\n",
       "    .dataframe tbody tr th {\n",
       "        vertical-align: top;\n",
       "    }\n",
       "\n",
       "    .dataframe thead th {\n",
       "        text-align: right;\n",
       "    }\n",
       "</style>\n",
       "<table border=\"1\" class=\"dataframe\">\n",
       "  <thead>\n",
       "    <tr style=\"text-align: right;\">\n",
       "      <th></th>\n",
       "      <th></th>\n",
       "      <th>UPS</th>\n",
       "      <th>DOWNS</th>\n",
       "    </tr>\n",
       "    <tr>\n",
       "      <th>datetime</th>\n",
       "      <th>Ticker</th>\n",
       "      <th></th>\n",
       "      <th></th>\n",
       "    </tr>\n",
       "  </thead>\n",
       "  <tbody>\n",
       "    <tr>\n",
       "      <th rowspan=\"5\" valign=\"top\">2005-01-05</th>\n",
       "      <th>AAP</th>\n",
       "      <td>0.001849</td>\n",
       "      <td>0.006659</td>\n",
       "    </tr>\n",
       "    <tr>\n",
       "      <th>ABK</th>\n",
       "      <td>0.009963</td>\n",
       "      <td>0.013230</td>\n",
       "    </tr>\n",
       "    <tr>\n",
       "      <th>ABS</th>\n",
       "      <td>0.001290</td>\n",
       "      <td>0.021053</td>\n",
       "    </tr>\n",
       "    <tr>\n",
       "      <th>ACAS</th>\n",
       "      <td>0.014041</td>\n",
       "      <td>0.027609</td>\n",
       "    </tr>\n",
       "    <tr>\n",
       "      <th>ADI</th>\n",
       "      <td>0.004520</td>\n",
       "      <td>0.027205</td>\n",
       "    </tr>\n",
       "    <tr>\n",
       "      <th>...</th>\n",
       "      <th>...</th>\n",
       "      <td>...</td>\n",
       "      <td>...</td>\n",
       "    </tr>\n",
       "    <tr>\n",
       "      <th rowspan=\"5\" valign=\"top\">2023-03-10</th>\n",
       "      <th>XRAY</th>\n",
       "      <td>0.013681</td>\n",
       "      <td>0.015219</td>\n",
       "    </tr>\n",
       "    <tr>\n",
       "      <th>ZBH</th>\n",
       "      <td>0.006627</td>\n",
       "      <td>0.011514</td>\n",
       "    </tr>\n",
       "    <tr>\n",
       "      <th>ZBRA</th>\n",
       "      <td>0.016250</td>\n",
       "      <td>0.021539</td>\n",
       "    </tr>\n",
       "    <tr>\n",
       "      <th>ZION</th>\n",
       "      <td>0.005168</td>\n",
       "      <td>0.048879</td>\n",
       "    </tr>\n",
       "    <tr>\n",
       "      <th>ZTS</th>\n",
       "      <td>0.009639</td>\n",
       "      <td>0.015795</td>\n",
       "    </tr>\n",
       "  </tbody>\n",
       "</table>\n",
       "<p>3060184 rows × 2 columns</p>\n",
       "</div>"
      ],
      "text/plain": [
       "                        UPS     DOWNS\n",
       "datetime   Ticker                    \n",
       "2005-01-05 AAP     0.001849  0.006659\n",
       "           ABK     0.009963  0.013230\n",
       "           ABS     0.001290  0.021053\n",
       "           ACAS    0.014041  0.027609\n",
       "           ADI     0.004520  0.027205\n",
       "...                     ...       ...\n",
       "2023-03-10 XRAY    0.013681  0.015219\n",
       "           ZBH     0.006627  0.011514\n",
       "           ZBRA    0.016250  0.021539\n",
       "           ZION    0.005168  0.048879\n",
       "           ZTS     0.009639  0.015795\n",
       "\n",
       "[3060184 rows x 2 columns]"
      ]
     },
     "execution_count": 268,
     "metadata": {},
     "output_type": "execute_result"
    }
   ],
   "source": [
    "# RSI\n",
    "ups = pd.DataFrame(R[R>0].rolling(5,min_periods=1).mean().stack(),columns =['UPS'])\n",
    "downs = pd.DataFrame(R[R<0].rolling(5,min_periods=1).mean().abs().stack(),columns =['DOWNS'])\n",
    "RS = ups.join(downs)\n",
    "RS.dropna()"
   ]
  },
  {
   "cell_type": "code",
   "execution_count": 269,
   "metadata": {},
   "outputs": [],
   "source": [
    "RS['ALPHA'] = RS['UPS'].divide(RS['DOWNS'],0)"
   ]
  },
  {
   "cell_type": "code",
   "execution_count": 270,
   "metadata": {},
   "outputs": [
    {
     "data": {
      "text/html": [
       "<div>\n",
       "<style scoped>\n",
       "    .dataframe tbody tr th:only-of-type {\n",
       "        vertical-align: middle;\n",
       "    }\n",
       "\n",
       "    .dataframe tbody tr th {\n",
       "        vertical-align: top;\n",
       "    }\n",
       "\n",
       "    .dataframe thead th {\n",
       "        text-align: right;\n",
       "    }\n",
       "</style>\n",
       "<table border=\"1\" class=\"dataframe\">\n",
       "  <thead>\n",
       "    <tr style=\"text-align: right;\">\n",
       "      <th></th>\n",
       "      <th></th>\n",
       "      <th>ALPHA</th>\n",
       "    </tr>\n",
       "    <tr>\n",
       "      <th>datetime</th>\n",
       "      <th>Ticker</th>\n",
       "      <th></th>\n",
       "    </tr>\n",
       "  </thead>\n",
       "  <tbody>\n",
       "    <tr>\n",
       "      <th rowspan=\"5\" valign=\"top\">2005-01-04</th>\n",
       "      <th>AAPL</th>\n",
       "      <td>NaN</td>\n",
       "    </tr>\n",
       "    <tr>\n",
       "      <th>AIG</th>\n",
       "      <td>NaN</td>\n",
       "    </tr>\n",
       "    <tr>\n",
       "      <th>AN</th>\n",
       "      <td>NaN</td>\n",
       "    </tr>\n",
       "    <tr>\n",
       "      <th>ANF</th>\n",
       "      <td>NaN</td>\n",
       "    </tr>\n",
       "    <tr>\n",
       "      <th>ANSS</th>\n",
       "      <td>NaN</td>\n",
       "    </tr>\n",
       "    <tr>\n",
       "      <th>...</th>\n",
       "      <th>...</th>\n",
       "      <td>...</td>\n",
       "    </tr>\n",
       "    <tr>\n",
       "      <th rowspan=\"5\" valign=\"top\">2023-03-10</th>\n",
       "      <th>XRAY</th>\n",
       "      <td>47.339069</td>\n",
       "    </tr>\n",
       "    <tr>\n",
       "      <th>ZBH</th>\n",
       "      <td>36.530519</td>\n",
       "    </tr>\n",
       "    <tr>\n",
       "      <th>ZBRA</th>\n",
       "      <td>43.001886</td>\n",
       "    </tr>\n",
       "    <tr>\n",
       "      <th>ZION</th>\n",
       "      <td>9.562059</td>\n",
       "    </tr>\n",
       "    <tr>\n",
       "      <th>ZTS</th>\n",
       "      <td>37.897612</td>\n",
       "    </tr>\n",
       "  </tbody>\n",
       "</table>\n",
       "<p>3194160 rows × 1 columns</p>\n",
       "</div>"
      ],
      "text/plain": [
       "                       ALPHA\n",
       "datetime   Ticker           \n",
       "2005-01-04 AAPL          NaN\n",
       "           AIG           NaN\n",
       "           AN            NaN\n",
       "           ANF           NaN\n",
       "           ANSS          NaN\n",
       "...                      ...\n",
       "2023-03-10 XRAY    47.339069\n",
       "           ZBH     36.530519\n",
       "           ZBRA    43.001886\n",
       "           ZION     9.562059\n",
       "           ZTS     37.897612\n",
       "\n",
       "[3194160 rows x 1 columns]"
      ]
     },
     "execution_count": 270,
     "metadata": {},
     "output_type": "execute_result"
    }
   ],
   "source": [
    "RSI = 100 - (100/(1+RS['ALPHA']))\n",
    "RSI = pd.DataFrame(RSI,dtype=float)\n",
    "RSI"
   ]
  },
  {
   "cell_type": "code",
   "execution_count": 271,
   "metadata": {},
   "outputs": [
    {
     "name": "stderr",
     "output_type": "stream",
     "text": [
      "C:\\Users\\marti\\AppData\\Local\\Temp\\ipykernel_28524\\4070706341.py:2: FutureWarning: Passing additional kwargs to Rolling.rank has no impact on the result and is deprecated. This will raise a TypeError in a future version of pandas.\n",
      "  ALPHA = ALPHA.rolling(5,min_periods=1).rank(axis=0,pct=True,ascending=False)\n"
     ]
    }
   ],
   "source": [
    "ALPHA = RSI['ALPHA'].unstack()[P].rank(1,pct=True,ascending=True).clip(0.01,0.99).apply(norm.ppf)\n",
    "ALPHA = ALPHA.rolling(5,min_periods=1).rank(axis=0,pct=True,ascending=False)"
   ]
  },
  {
   "cell_type": "code",
   "execution_count": 272,
   "metadata": {},
   "outputs": [
    {
     "name": "stderr",
     "output_type": "stream",
     "text": [
      "C:\\Users\\marti\\AppData\\Local\\Temp\\ipykernel_28524\\1384291576.py:7: FutureWarning: Not prepending group keys to the result index of transform-like apply. In the future, the group keys will be included in the index, regardless of whether the applied function returns a like-indexed object.\n",
      "To preserve the previous behavior, use\n",
      "\n",
      "\t>>> .groupby(..., group_keys=False)\n",
      "\n",
      "To adopt the future behavior and silence this warning, use \n",
      "\n",
      "\t>>> .groupby(..., group_keys=True)\n",
      "  SIGNAL = SIGNAL[P].groupby(GICS,axis=1).apply(center)\n"
     ]
    }
   ],
   "source": [
    "\n",
    "thresh =0.5\n",
    "\n",
    "SIGNAL = ALPHA.copy()\n",
    "SIGNAL = SIGNAL[P].rank(1,pct=True,ascending=True).clip(0.01,0.99).apply(norm.ppf)\n",
    "SIGNAL[SIGNAL.abs()<thresh] = None\n",
    "\n",
    "SIGNAL = SIGNAL[P].groupby(GICS,axis=1).apply(center)\n",
    "# SIGNAL = SIGNAL.sub(SIGNAL.mean(1),0)\n",
    "SIGNAL= SIGNAL.div(SIGNAL.abs().sum(1),0)"
   ]
  },
  {
   "cell_type": "code",
   "execution_count": 273,
   "metadata": {},
   "outputs": [
    {
     "name": "stdout",
     "output_type": "stream",
     "text": [
      "0.5088427287919342\n"
     ]
    },
    {
     "data": {
      "image/png": "[encoded data removed]",
      "text/plain": [
       "<Figure size 432x288 with 1 Axes>"
      ]
     },
     "metadata": {
      "needs_background": "light"
     },
     "output_type": "display_data"
    }
   ],
   "source": [
    "pnl = (SIGNAL.shift(1) *R).sum(1).replace({0:np.nan}).dropna()\n",
    "sharpe = (pnl.mean(skipna=True)* np.sqrt(252)/ pnl.std(skipna=True))\n",
    "print(sharpe)\n",
    "pnl.cumsum().plot()\n",
    "plt.show()"
   ]
  },
  {
   "cell_type": "code",
   "execution_count": null,
   "metadata": {},
   "outputs": [],
   "source": []
  }
 ],
 "metadata": {
  "kernelspec": {
   "display_name": "Python 3",
   "language": "python",
   "name": "python3"
  },
  "language_info": {
   "codemirror_mode": {
    "name": "ipython",
    "version": 3
   },
   "file_extension": ".py",
   "mimetype": "text/x-python",
   "name": "python",
   "nbconvert_exporter": "python",
   "pygments_lexer": "ipython3",
   "version": "3.9.8 (tags/v3.9.8:bb3fdcf, Nov  5 2021, 20:48:33) [MSC v.1929 64 bit (AMD64)]"
  },
  "orig_nbformat": 4,
  "vscode": {
   "interpreter": {
    "hash": "3e24519b0ba229a6f9a71f39c1cb5a8bdc9138e2d11e58c1de9e81a631b04fde"
   }
  }
 },
 "nbformat": 4,
 "nbformat_minor": 2
}
